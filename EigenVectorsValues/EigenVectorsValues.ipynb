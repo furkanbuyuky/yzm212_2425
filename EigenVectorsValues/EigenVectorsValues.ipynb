{
 "cells": [
  {
   "cell_type": "code",
   "execution_count": 1,
   "id": "6fc24f9e",
   "metadata": {},
   "outputs": [
    {
     "name": "stdout",
     "output_type": "stream",
     "text": [
      "\n",
      "Özdeğerler:\n",
      "[5. 3. 7.]\n",
      "\n",
      "Çalışma Süresi: 0.001001 saniye\n"
     ]
    }
   ],
   "source": [
    "import numpy as np\n",
    "import time\n",
    "\n",
    "A = np.array([[6, 1, -1],\n",
    "              [0, 7, 0],\n",
    "              [3, -1, 2]])\n",
    "\n",
    "start_time = time.time()\n",
    "\n",
    "eigenvalues = np.linalg.eigvals(A)\n",
    "\n",
    "end_time = time.time()\n",
    "\n",
    "print(\"\\nÖzdeğerler:\")\n",
    "print(eigenvalues)\n",
    "\n",
    "print(f\"\\nÇalışma Süresi: {end_time - start_time:.6f} saniye\")\n"
   ]
  },
  {
   "cell_type": "code",
   "execution_count": 2,
   "id": "150d3a3c",
   "metadata": {},
   "outputs": [
    {
     "name": "stdout",
     "output_type": "stream",
     "text": [
      "\n",
      "Özdeğerler:\n",
      "[7. 5. 3.]\n",
      "\n",
      "Çalışma Süresi: 0.001506 saniye\n"
     ]
    }
   ],
   "source": [
    "import numpy as np\n",
    "import time\n",
    "\n",
    "def get_dimensions(matrix):\n",
    "    return [len(matrix), len(matrix[0])]\n",
    "\n",
    "def find_determinant(matrix, excluded=1):\n",
    "    dimensions = get_dimensions(matrix)\n",
    "    if dimensions == [2, 2]:\n",
    "        return excluded * ((matrix[0][0] * matrix[1][1]) - (matrix[0][1] * matrix[1][0]))\n",
    "    else:\n",
    "        new_matrices = []\n",
    "        excluded_values = []\n",
    "        exclude_row = 0\n",
    "        for exclude_column in range(dimensions[1]):\n",
    "            excluded_values.append(matrix[exclude_row][exclude_column])\n",
    "            tmp = []\n",
    "            for row in range(1, dimensions[0]):\n",
    "                tmp_row = [matrix[row][col] for col in range(dimensions[1]) if col != exclude_column]\n",
    "                tmp.append(tmp_row)\n",
    "            new_matrices.append(tmp)\n",
    "        determinants = [find_determinant(new_matrices[j], excluded_values[j]) for j in range(len(new_matrices))]\n",
    "        return sum(((-1)**i) * det for i, det in enumerate(determinants))\n",
    "\n",
    "def list_multiply(list1, list2):\n",
    "    result = [0 for _ in range(len(list1) + len(list2) - 1)]\n",
    "    for i in range(len(list1)):\n",
    "        for j in range(len(list2)):\n",
    "            result[i + j] += list1[i] * list2[j]\n",
    "    return result\n",
    "\n",
    "def list_add(list1, list2, sub=1):\n",
    "    return [i + (sub * j) for i, j in zip(list1, list2)]\n",
    "\n",
    "def determinant_equation(matrix, excluded=[1, 0]):\n",
    "    dimensions = get_dimensions(matrix)\n",
    "    if dimensions == [2, 2]:\n",
    "        part1 = list_multiply(matrix[0][0], matrix[1][1])\n",
    "        part2 = list_multiply(matrix[0][1], matrix[1][0])\n",
    "        return list_multiply(list_add(part1, part2, sub=-1), excluded)\n",
    "    else:\n",
    "        new_matrices = []\n",
    "        excluded_values = []\n",
    "        exclude_row = 0\n",
    "        for exclude_column in range(dimensions[1]):\n",
    "            excluded_values.append(matrix[exclude_row][exclude_column])\n",
    "            tmp = []\n",
    "            for row in range(1, dimensions[0]):\n",
    "                tmp_row = [matrix[row][col] for col in range(dimensions[1]) if col != exclude_column]\n",
    "                tmp.append(tmp_row)\n",
    "            new_matrices.append(tmp)\n",
    "        det_eqs = [determinant_equation(new_matrices[j], excluded_values[j]) for j in range(len(new_matrices))]\n",
    "        return [sum(terms) for terms in zip(*det_eqs)]\n",
    "\n",
    "def identity_matrix(dimensions):\n",
    "    return [[1 if i == j else 0 for j in range(dimensions[1])] for i in range(dimensions[0])]\n",
    "\n",
    "def characteristic_equation(matrix):\n",
    "    dimensions = get_dimensions(matrix)\n",
    "    identity = identity_matrix(dimensions)\n",
    "    return [[[a, -b] for a, b in zip(row_m, row_i)] for row_m, row_i in zip(matrix, identity)]\n",
    "\n",
    "def find_eigenvalues(matrix):\n",
    "    poly = determinant_equation(characteristic_equation(matrix))\n",
    "    return np.roots(poly[::-1])\n",
    "\n",
    "if __name__ == \"__main__\":\n",
    "    A = [[6, 1, -1],\n",
    "         [0, 7, 0],\n",
    "         [3, -1, 2]]\n",
    "\n",
    "\n",
    "    start_time = time.time()\n",
    "\n",
    "    eigenvalues = find_eigenvalues(A)\n",
    "\n",
    "    end_time = time.time()\n",
    "\n",
    "    print(\"\\nÖzdeğerler:\")\n",
    "    print(eigenvalues)\n",
    "\n",
    "    print(f\"\\nÇalışma Süresi: {end_time - start_time:.6f} saniye\")\n"
   ]
  },
  {
   "cell_type": "markdown",
   "id": "4c12e73c",
   "metadata": {},
   "source": [
    "Manuel yöntem ile yapılan özdeğer hesaplamasında, karakteristik polinomun oluşturulması ve köklerinin bulunması gibi adımlar yer aldığı için hesaplama süresi, doğrudan NumPy’nin eigvals fonksiyonunu kullanan yöntemden daha uzun sürmektedir. Bunun yanı sıra, elde edilen özdeğerlerin değerleri doğru olmakla birlikte, sıralamaları NumPy fonksiyonu ile yapılan hesaplamadaki sıradan farklılık göstermektedir. Özdeğerlerin sırasının farklı olması matematiksel olarak herhangi bir tutarsızlığa yol açmaz, zira özdeğerler küme niteliğinde değerlendirildiği için dizilişleri önemli değildir."
   ]
  }
 ],
 "metadata": {
  "kernelspec": {
   "display_name": "Python 3 (ipykernel)",
   "language": "python",
   "name": "python3"
  },
  "language_info": {
   "codemirror_mode": {
    "name": "ipython",
    "version": 3
   },
   "file_extension": ".py",
   "mimetype": "text/x-python",
   "name": "python",
   "nbconvert_exporter": "python",
   "pygments_lexer": "ipython3",
   "version": "3.11.5"
  }
 },
 "nbformat": 4,
 "nbformat_minor": 5
}
