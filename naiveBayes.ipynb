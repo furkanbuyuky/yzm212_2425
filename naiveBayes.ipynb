{
 "cells": [
  {
   "cell_type": "code",
   "execution_count": 17,
   "id": "0704c658",
   "metadata": {},
   "outputs": [],
   "source": [
    "import numpy as np\n",
    "import pandas as pd\n",
    "import time\n",
    "import matplotlib.pyplot as plt\n",
    "from sklearn.model_selection import train_test_split\n",
    "from sklearn.metrics import confusion_matrix, accuracy_score\n",
    "import seaborn as sns"
   ]
  },
  {
   "cell_type": "code",
   "execution_count": 18,
   "id": "92004519",
   "metadata": {},
   "outputs": [],
   "source": [
    "class NaiveBayes:\n",
    "\n",
    "    def fit(self, X, y):\n",
    "        n_samples, n_features = X.shape #örnek ve özellik sayısını tuple olarak döndürür\n",
    "        self._classes = np.unique(y) #veri setindeki farklı sınıfları tutar\n",
    "        n_classes = len(self._classes)\n",
    "\n",
    "        #her bir verinin ortalamasını, varyansını ve prior olasılığı için boş matris oluşturulur\n",
    "        self._mean = np.zeros((n_classes, n_features), dtype=np.float64)\n",
    "        self._var = np.zeros((n_classes, n_features), dtype=np.float64)\n",
    "        self._priors = np.zeros(n_classes, dtype=np.float64)\n",
    "\n",
    "        #her bir sınıfın posterior olasılığı hesaplanır\n",
    "        for idx, c in enumerate(self._classes):\n",
    "            X_c = X[y == c]\n",
    "            self._mean[idx, :] = X_c.mean(axis=0)\n",
    "            self._var[idx, :] = X_c.var(axis=0)\n",
    "            self._priors[idx] = X_c.shape[0] / float(n_samples)\n",
    "\n",
    "    def predict(self, X):\n",
    "        y_pred = [self._predict(x) for x in X]\n",
    "        return np.array(y_pred)\n",
    "\n",
    "    def _predict(self, x):\n",
    "        posteriors = []\n",
    "\n",
    "        #her bir sınıf için posterior olasılık hesaplanır\n",
    "        for idx, c in enumerate(self._classes):\n",
    "            prior = np.log(self._priors[idx])\n",
    "            posterior = np.sum(np.log(self._pdf(idx, x)))\n",
    "            posterior = posterior + prior\n",
    "            posteriors.append(posterior)\n",
    "\n",
    "        return self._classes[np.argmax(posteriors)] #en olası sınıf döndürülür\n",
    "\n",
    "    #verinin belli bir sınıfa ait olma olasılığı hesaplanır\n",
    "    def _pdf(self, class_idx, x):\n",
    "        mean = self._mean[class_idx]\n",
    "        var = self._var[class_idx]\n",
    "        numerator = np.exp(-((x - mean) ** 2) / (2 * var))\n",
    "        denominator = np.sqrt(2 * np.pi * var)\n",
    "        return numerator / denominator"
   ]
  },
  {
   "cell_type": "code",
   "execution_count": 19,
   "id": "f974b315",
   "metadata": {},
   "outputs": [
    {
     "name": "stdout",
     "output_type": "stream",
     "text": [
      "Accuracy: 0.7975\n",
      "Training Time: 0.001003 seconds\n",
      "Prediction Time: 0.036363 seconds\n"
     ]
    },
    {
     "data": {
      "image/png": "[encoded data removed]",
      "text/plain": [
       "<Figure size 600x400 with 2 Axes>"
      ]
     },
     "metadata": {},
     "output_type": "display_data"
    }
   ],
   "source": [
    "df = pd.read_csv(r\"C:\\Users\\FURKAN\\Downloads\\archive (5)\\train.csv\") #veri seti\n",
    "\n",
    "X = df.iloc[:, :-1].values #son sütun hariç tüm sütunlar\n",
    "y = df.iloc[:, -1].values #son sütun (classification)\n",
    "\n",
    "#veri setini %80 train %20 test olarak ayırır\n",
    "X_train, X_test, y_train, y_test = train_test_split(X, y, test_size=0.2, random_state=42)\n",
    "\n",
    "bayesModel = NaiveBayes()\n",
    "\n",
    "start_time = time.time()\n",
    "bayesModel.fit(X_train, y_train) #modeli eğitir\n",
    "fit_time = time.time() - start_time #train süresini ölçer\n",
    "\n",
    "start_time = time.time()\n",
    "y_pred = bayesModel.predict(X_test) #modeli test eder\n",
    "predict_time = time.time() - start_time #test süresini ölçer\n",
    "\n",
    "accuracy = accuracy_score(y_test, y_pred) #modelin doğruluğunu ölçer\n",
    "conf_matrix = confusion_matrix(y_test, y_pred) #karmaşıklık matrisini oluşturur\n",
    "\n",
    "print(f\"Accuracy: {accuracy:.4f}\")\n",
    "print(f\"Training Time: {fit_time:.6f} seconds\")\n",
    "print(f\"Prediction Time: {predict_time:.6f} seconds\")\n",
    "\n",
    "#karmaşıklık matrisini çizer\n",
    "plt.figure(figsize=(6,4))\n",
    "sns.heatmap(conf_matrix, annot=True, fmt='d', cmap=\"Reds\", xticklabels=[\"Class 0\", \"Class 1\"], yticklabels=[\"Class 0\", \"Class 1\"])\n",
    "plt.xlabel(\"Predicted\")\n",
    "plt.ylabel(\"Actual\")\n",
    "plt.title(\"Confusion Matrix\")\n",
    "plt.show()"
   ]
  },
  {
   "cell_type": "code",
   "execution_count": null,
   "id": "d04cca02",
   "metadata": {},
   "outputs": [],
   "source": []
  }
 ],
 "metadata": {
  "kernelspec": {
   "display_name": "Python 3 (ipykernel)",
   "language": "python",
   "name": "python3"
  },
  "language_info": {
   "codemirror_mode": {
    "name": "ipython",
    "version": 3
   },
   "file_extension": ".py",
   "mimetype": "text/x-python",
   "name": "python",
   "nbconvert_exporter": "python",
   "pygments_lexer": "ipython3",
   "version": "3.11.5"
  }
 },
 "nbformat": 4,
 "nbformat_minor": 5
}
